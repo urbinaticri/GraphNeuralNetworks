{
  "nbformat": 4,
  "nbformat_minor": 0,
  "metadata": {
    "accelerator": "GPU",
    "colab": {
      "name": "Movie Recommendation with LightGCN.ipynb",
      "provenance": [],
      "collapsed_sections": [
        "JRxqXVBL7F5Q"
      ],
      "toc_visible": true
    },
    "kernelspec": {
      "display_name": "Python 3",
      "name": "python3"
    },
    "language_info": {
      "name": "python"
    }
  },
  "cells": [
    {
      "cell_type": "code",
      "execution_count": 11,
      "metadata": {
        "id": "JHyXITl-7Cdi"
      },
      "outputs": [],
      "source": [
        "# Ignore warning\n",
        "import warnings\n",
        "warnings.filterwarnings('ignore')"
      ]
    },
    {
      "cell_type": "code",
      "execution_count": 12,
      "metadata": {
        "colab": {
          "base_uri": "https://localhost:8080/"
        },
        "id": "ib8_3-Scxvk8",
        "outputId": "9ad3c4c7-ed5e-4431-8f19-5e9f57d916e8"
      },
      "outputs": [
        {
          "output_type": "stream",
          "name": "stdout",
          "text": [
            "All good, a Gpu is available\n"
          ]
        }
      ],
      "source": [
        "# Set device to gpu if available\n",
        "import torch\n",
        "device = 'cpu'\n",
        "if torch.cuda.is_available:\n",
        "  print('All good, a Gpu is available')\n",
        "  device = torch.device(\"cuda:0\")  \n",
        "else:\n",
        "  print('Please set GPU via Edit -> Notebook Settings.')\n",
        "  "
      ]
    },
    {
      "cell_type": "code",
      "execution_count": 13,
      "metadata": {
        "colab": {
          "base_uri": "https://localhost:8080/"
        },
        "id": "I8YXWMiA7fVB",
        "outputId": "ccbd57c9-4a2a-4bce-e25a-78f40648608b"
      },
      "outputs": [
        {
          "output_type": "stream",
          "name": "stdout",
          "text": [
            "Fri Jun  3 11:47:21 2022       \n",
            "+-----------------------------------------------------------------------------+\n",
            "| NVIDIA-SMI 460.32.03    Driver Version: 460.32.03    CUDA Version: 11.2     |\n",
            "|-------------------------------+----------------------+----------------------+\n",
            "| GPU  Name        Persistence-M| Bus-Id        Disp.A | Volatile Uncorr. ECC |\n",
            "| Fan  Temp  Perf  Pwr:Usage/Cap|         Memory-Usage | GPU-Util  Compute M. |\n",
            "|                               |                      |               MIG M. |\n",
            "|===============================+======================+======================|\n",
            "|   0  Tesla P100-PCIE...  Off  | 00000000:00:04.0 Off |                    0 |\n",
            "| N/A   35C    P0    26W / 250W |      0MiB / 16280MiB |      0%      Default |\n",
            "|                               |                      |                  N/A |\n",
            "+-------------------------------+----------------------+----------------------+\n",
            "                                                                               \n",
            "+-----------------------------------------------------------------------------+\n",
            "| Processes:                                                                  |\n",
            "|  GPU   GI   CI        PID   Type   Process name                  GPU Memory |\n",
            "|        ID   ID                                                   Usage      |\n",
            "|=============================================================================|\n",
            "|  No running processes found                                                 |\n",
            "+-----------------------------------------------------------------------------+\n"
          ]
        }
      ],
      "source": [
        "!nvidia-smi"
      ]
    },
    {
      "cell_type": "code",
      "source": [
        "def format_pytorch_version(version):\n",
        "  return version.split('+')[0]\n",
        "\n",
        "TORCH_version = torch.__version__\n",
        "TORCH = format_pytorch_version(TORCH_version)\n",
        "\n",
        "def format_cuda_version(version):\n",
        "  return 'cu' + version.replace('.', '')\n",
        "\n",
        "CUDA_version = torch.version.cuda\n",
        "CUDA = format_cuda_version(CUDA_version)\n",
        "\n",
        "!pip install -q torch-scatter     -f https://pytorch-geometric.com/whl/torch-{TORCH}+{CUDA}.html\n",
        "!pip install -q torch-sparse      -f https://pytorch-geometric.com/whl/torch-{TORCH}+{CUDA}.html\n",
        "!pip install -q torch-geometric"
      ],
      "metadata": {
        "id": "xP-wrPR_N6FH",
        "colab": {
          "base_uri": "https://localhost:8080/"
        },
        "outputId": "445d535b-dd9a-4792-b9ce-f04bcb486459"
      },
      "execution_count": 14,
      "outputs": [
        {
          "output_type": "stream",
          "name": "stdout",
          "text": [
            "\u001b[K     |████████████████████████████████| 7.9 MB 7.5 MB/s \n",
            "\u001b[K     |████████████████████████████████| 3.5 MB 8.4 MB/s \n",
            "\u001b[K     |████████████████████████████████| 407 kB 9.9 MB/s \n",
            "\u001b[?25h  Building wheel for torch-geometric (setup.py) ... \u001b[?25l\u001b[?25hdone\n"
          ]
        }
      ]
    },
    {
      "cell_type": "code",
      "metadata": {
        "id": "5OBSacx6Q03m"
      },
      "source": [
        "# import required modules\n",
        "import random\n",
        "from tqdm import tqdm\n",
        "import pandas as pd\n",
        "import numpy as np\n",
        "import matplotlib.pyplot as plt\n",
        "from sklearn.model_selection import train_test_split\n",
        "\n",
        "import torch\n",
        "from torch import nn, optim, Tensor\n",
        "\n",
        "from torch_sparse import SparseTensor, matmul\n",
        "\n",
        "import torch.nn.functional as F\n",
        "\n",
        "from torch_geometric.utils import structured_negative_sampling\n",
        "from torch_geometric.data import download_url, extract_zip\n",
        "from torch_geometric.nn.conv.gcn_conv import gcn_norm\n",
        "from torch_geometric.nn.conv import MessagePassing\n",
        "from torch_geometric.typing import Adj"
      ],
      "execution_count": 15,
      "outputs": []
    },
    {
      "cell_type": "markdown",
      "metadata": {
        "id": "LPmh48qzlrzk"
      },
      "source": [
        "# Reproducibility\n",
        "When **developing and debugging** Neural Networks is desirable to have a deterministic behaviour. For this reason, we are going to disable all the sources of randomness. Please note that completely reproducible results are not guaranteed across PyTorch releases, individual commits or different platforms. You can find more detailed information at this [page](https://pytorch.org/docs/stable/notes/randomness.html).\n",
        "Please note that the flag `cudnn.benchmark = False` disable the auto-tuner that selects the optimal set of algorithms for your hardware and usually leads to slower runtime. "
      ]
    },
    {
      "cell_type": "code",
      "execution_count": 16,
      "metadata": {
        "id": "FIz_r1nZH7RN"
      },
      "outputs": [],
      "source": [
        "def fix_random(seed: int) -> None:\n",
        "    np.random.seed(seed)\n",
        "    random.seed(seed)\n",
        "    torch.manual_seed(seed)\n",
        "    torch.cuda.manual_seed(seed)\n",
        "    \n",
        "    torch.backends.cudnn.benchmark = False\n",
        "    torch.backends.cudnn.deterministic = True        "
      ]
    },
    {
      "cell_type": "code",
      "execution_count": 17,
      "metadata": {
        "id": "VOllsYHuIZHY"
      },
      "outputs": [],
      "source": [
        "fix_random(42)"
      ]
    },
    {
      "cell_type": "markdown",
      "metadata": {
        "id": "8mZ6-zPxPklE"
      },
      "source": [
        "# Loading the Dataset"
      ]
    },
    {
      "cell_type": "code",
      "source": [
        "base_url = 'https://files.grouplens.org/datasets/movielens/'"
      ],
      "metadata": {
        "id": "piHC471u4jGi"
      },
      "execution_count": 18,
      "outputs": []
    },
    {
      "cell_type": "markdown",
      "source": [
        "##Dataset ml-latest-small"
      ],
      "metadata": {
        "id": "JRxqXVBL7F5Q"
      }
    },
    {
      "cell_type": "markdown",
      "source": [
        "The dataset `ml-latest-small` describes 5-star rating and free-text tagging activity from MovieLens, a movie recommendation service. It contains `100836` ratings and `3683` tag applications across `9742` movies. These data were created by `610` users."
      ],
      "metadata": {
        "id": "yRsRfGDi4Kei"
      }
    },
    {
      "cell_type": "code",
      "metadata": {
        "colab": {
          "base_uri": "https://localhost:8080/"
        },
        "id": "6cRC_IazQ4Oj",
        "outputId": "f520bcc0-3860-46ea-b9bf-b288ecbfbf62"
      },
      "source": [
        "url = base_url + 'ml-latest-small.zip'\n",
        "extract_zip(download_url(url, '.'), '.')"
      ],
      "execution_count": null,
      "outputs": [
        {
          "output_type": "stream",
          "name": "stderr",
          "text": [
            "Downloading https://files.grouplens.org/datasets/movielens/ml-latest-small.zip\n",
            "Extracting ./ml-latest-small.zip\n"
          ]
        }
      ]
    },
    {
      "cell_type": "code",
      "metadata": {
        "id": "o2P3zYR8Q8EX"
      },
      "source": [
        "# load user and movie nodes\n",
        "def load_node_csv(path, index_col):\n",
        "    df = pd.read_csv(path, index_col=index_col)\n",
        "    mapping = {index: i for i, index in enumerate(df.index.unique())}\n",
        "    return mapping\n",
        "\n",
        "movie_path = './ml-latest-small/movies.csv'\n",
        "rating_path = './ml-latest-small/ratings.csv'\n",
        "\n",
        "user_mapping = load_node_csv(rating_path, index_col='userId')\n",
        "movie_mapping = load_node_csv(movie_path, index_col='movieId')"
      ],
      "execution_count": null,
      "outputs": []
    },
    {
      "cell_type": "code",
      "metadata": {
        "id": "BkJzQlxSRDEq"
      },
      "source": [
        "# load edges between users and movies\n",
        "def load_edge_csv(path, src_index_col, src_mapping, dst_index_col, dst_mapping, link_index_col, rating_threshold=4):\n",
        "    \"\"\"Loads csv containing edges between users and items\n",
        "\n",
        "    Args:\n",
        "        path (str): path to csv file\n",
        "        src_index_col (str): column name of users\n",
        "        src_mapping (dict): mapping between row number and user id\n",
        "        dst_index_col (str): column name of items\n",
        "        dst_mapping (dict): mapping between row number and item id\n",
        "        link_index_col (str): column name of user item interaction\n",
        "        rating_threshold (int, optional): Threshold to determine positivity of edge\n",
        "\n",
        "    Returns:\n",
        "        torch.Tensor: 2 by N matrix containing the node ids of N user-item edges\n",
        "    \"\"\"\n",
        "    df = pd.read_csv(path)\n",
        "    edge_index = None\n",
        "    src = [src_mapping[index] for index in df[src_index_col]]\n",
        "    dst = [dst_mapping[index] for index in df[dst_index_col]]\n",
        "    edge_attr = torch.from_numpy(df[link_index_col].values).view(-1, 1).to(torch.long) >= rating_threshold\n",
        "\n",
        "\n",
        "    edge_index = [[], []]\n",
        "    for i in range(edge_attr.shape[0]):\n",
        "        if edge_attr[i]:\n",
        "            edge_index[0].append(src[i])\n",
        "            edge_index[1].append(dst[i])\n",
        "\n",
        "    return torch.tensor(edge_index)\n",
        "\n",
        "\n",
        "edge_index = load_edge_csv(\n",
        "    rating_path,\n",
        "    src_index_col='userId',\n",
        "    src_mapping=user_mapping,\n",
        "    dst_index_col='movieId',\n",
        "    dst_mapping=movie_mapping,\n",
        "    link_index_col='rating',\n",
        "    rating_threshold=3,\n",
        ")"
      ],
      "execution_count": null,
      "outputs": []
    },
    {
      "cell_type": "code",
      "metadata": {
        "id": "wIueYZfaT6_H"
      },
      "source": [
        "# split the edges of the graph using a 80/10/10 train/validation/test split\n",
        "n_users, n_items = len(user_mapping), len(movie_mapping)\n",
        "num_interactions = edge_index.shape[1]\n",
        "all_indices = [i for i in range(num_interactions)]\n",
        "\n",
        "train_indices, test_indices = train_test_split(all_indices, test_size=0.2)\n",
        "val_indices, test_indices = train_test_split( test_indices, test_size=0.5)\n",
        "\n",
        "train_edge_index = edge_index[:, train_indices]\n",
        "val_edge_index = edge_index[:, val_indices]\n",
        "test_edge_index = edge_index[:, test_indices]"
      ],
      "execution_count": null,
      "outputs": []
    },
    {
      "cell_type": "code",
      "metadata": {
        "id": "U5yKILBJUAN6"
      },
      "source": [
        "# convert edge indices into Sparse Tensors\n",
        "train_sparse_edge_index = SparseTensor(row=train_edge_index[0], col=train_edge_index[1], sparse_sizes=(n_users + n_items, n_users + n_items))\n",
        "val_sparse_edge_index = SparseTensor(row=val_edge_index[0], col=val_edge_index[1], sparse_sizes=(n_users + n_items, n_users + n_items))\n",
        "test_sparse_edge_index = SparseTensor(row=test_edge_index[0], col=test_edge_index[1], sparse_sizes=(n_users + n_items, n_users + n_items))"
      ],
      "execution_count": null,
      "outputs": []
    },
    {
      "cell_type": "markdown",
      "source": [
        "##Dataset ml-100k"
      ],
      "metadata": {
        "id": "EtkbQaDd7PyQ"
      }
    },
    {
      "cell_type": "markdown",
      "source": [
        "This dataset `ml-100k.zip` consists of `100000` ratings (1-5) from `943` users on `1682` movies. Each user has rated at least 20 movies. "
      ],
      "metadata": {
        "id": "CKEr2TRQ5nH7"
      }
    },
    {
      "cell_type": "code",
      "source": [
        "url = base_url + 'ml-100k.zip'\n",
        "extract_zip(download_url(url, '.'), '.')\n",
        "\n",
        "movie_path = './ml-latest-small/movies.csv'\n",
        "rating_path = './ml-latest-small/ratings.csv'"
      ],
      "metadata": {
        "colab": {
          "base_uri": "https://localhost:8080/"
        },
        "id": "v1bL-Ys64u9h",
        "outputId": "327273cc-b327-431d-93ff-2a66a4fbaaa7"
      },
      "execution_count": 19,
      "outputs": [
        {
          "output_type": "stream",
          "name": "stderr",
          "text": [
            "Downloading https://files.grouplens.org/datasets/movielens/ml-100k.zip\n",
            "Extracting ./ml-100k.zip\n"
          ]
        }
      ]
    },
    {
      "cell_type": "code",
      "source": [
        "columns_name=['user_id','item_id','rating','timestamp']\n",
        "df = pd.read_csv(\"./ml-100k/u.data\",sep=\"\\t\",names=columns_name)\n",
        "df = df[df['rating']>=3]\n",
        "df"
      ],
      "metadata": {
        "id": "-jn-qL5t8WD1",
        "colab": {
          "base_uri": "https://localhost:8080/",
          "height": 423
        },
        "outputId": "792381ca-ee85-4249-a35f-7e35a4bc16a0"
      },
      "execution_count": 20,
      "outputs": [
        {
          "output_type": "execute_result",
          "data": {
            "text/plain": [
              "       user_id  item_id  rating  timestamp\n",
              "0          196      242       3  881250949\n",
              "1          186      302       3  891717742\n",
              "5          298      474       4  884182806\n",
              "7          253      465       5  891628467\n",
              "8          305      451       3  886324817\n",
              "...        ...      ...     ...        ...\n",
              "99992      721      262       3  877137285\n",
              "99994      378       78       3  880056976\n",
              "99995      880      476       3  880175444\n",
              "99996      716      204       5  879795543\n",
              "99999       12      203       3  879959583\n",
              "\n",
              "[82520 rows x 4 columns]"
            ],
            "text/html": [
              "\n",
              "  <div id=\"df-af67c7f6-7a5a-4e47-86fb-5893fb89782e\">\n",
              "    <div class=\"colab-df-container\">\n",
              "      <div>\n",
              "<style scoped>\n",
              "    .dataframe tbody tr th:only-of-type {\n",
              "        vertical-align: middle;\n",
              "    }\n",
              "\n",
              "    .dataframe tbody tr th {\n",
              "        vertical-align: top;\n",
              "    }\n",
              "\n",
              "    .dataframe thead th {\n",
              "        text-align: right;\n",
              "    }\n",
              "</style>\n",
              "<table border=\"1\" class=\"dataframe\">\n",
              "  <thead>\n",
              "    <tr style=\"text-align: right;\">\n",
              "      <th></th>\n",
              "      <th>user_id</th>\n",
              "      <th>item_id</th>\n",
              "      <th>rating</th>\n",
              "      <th>timestamp</th>\n",
              "    </tr>\n",
              "  </thead>\n",
              "  <tbody>\n",
              "    <tr>\n",
              "      <th>0</th>\n",
              "      <td>196</td>\n",
              "      <td>242</td>\n",
              "      <td>3</td>\n",
              "      <td>881250949</td>\n",
              "    </tr>\n",
              "    <tr>\n",
              "      <th>1</th>\n",
              "      <td>186</td>\n",
              "      <td>302</td>\n",
              "      <td>3</td>\n",
              "      <td>891717742</td>\n",
              "    </tr>\n",
              "    <tr>\n",
              "      <th>5</th>\n",
              "      <td>298</td>\n",
              "      <td>474</td>\n",
              "      <td>4</td>\n",
              "      <td>884182806</td>\n",
              "    </tr>\n",
              "    <tr>\n",
              "      <th>7</th>\n",
              "      <td>253</td>\n",
              "      <td>465</td>\n",
              "      <td>5</td>\n",
              "      <td>891628467</td>\n",
              "    </tr>\n",
              "    <tr>\n",
              "      <th>8</th>\n",
              "      <td>305</td>\n",
              "      <td>451</td>\n",
              "      <td>3</td>\n",
              "      <td>886324817</td>\n",
              "    </tr>\n",
              "    <tr>\n",
              "      <th>...</th>\n",
              "      <td>...</td>\n",
              "      <td>...</td>\n",
              "      <td>...</td>\n",
              "      <td>...</td>\n",
              "    </tr>\n",
              "    <tr>\n",
              "      <th>99992</th>\n",
              "      <td>721</td>\n",
              "      <td>262</td>\n",
              "      <td>3</td>\n",
              "      <td>877137285</td>\n",
              "    </tr>\n",
              "    <tr>\n",
              "      <th>99994</th>\n",
              "      <td>378</td>\n",
              "      <td>78</td>\n",
              "      <td>3</td>\n",
              "      <td>880056976</td>\n",
              "    </tr>\n",
              "    <tr>\n",
              "      <th>99995</th>\n",
              "      <td>880</td>\n",
              "      <td>476</td>\n",
              "      <td>3</td>\n",
              "      <td>880175444</td>\n",
              "    </tr>\n",
              "    <tr>\n",
              "      <th>99996</th>\n",
              "      <td>716</td>\n",
              "      <td>204</td>\n",
              "      <td>5</td>\n",
              "      <td>879795543</td>\n",
              "    </tr>\n",
              "    <tr>\n",
              "      <th>99999</th>\n",
              "      <td>12</td>\n",
              "      <td>203</td>\n",
              "      <td>3</td>\n",
              "      <td>879959583</td>\n",
              "    </tr>\n",
              "  </tbody>\n",
              "</table>\n",
              "<p>82520 rows × 4 columns</p>\n",
              "</div>\n",
              "      <button class=\"colab-df-convert\" onclick=\"convertToInteractive('df-af67c7f6-7a5a-4e47-86fb-5893fb89782e')\"\n",
              "              title=\"Convert this dataframe to an interactive table.\"\n",
              "              style=\"display:none;\">\n",
              "        \n",
              "  <svg xmlns=\"http://www.w3.org/2000/svg\" height=\"24px\"viewBox=\"0 0 24 24\"\n",
              "       width=\"24px\">\n",
              "    <path d=\"M0 0h24v24H0V0z\" fill=\"none\"/>\n",
              "    <path d=\"M18.56 5.44l.94 2.06.94-2.06 2.06-.94-2.06-.94-.94-2.06-.94 2.06-2.06.94zm-11 1L8.5 8.5l.94-2.06 2.06-.94-2.06-.94L8.5 2.5l-.94 2.06-2.06.94zm10 10l.94 2.06.94-2.06 2.06-.94-2.06-.94-.94-2.06-.94 2.06-2.06.94z\"/><path d=\"M17.41 7.96l-1.37-1.37c-.4-.4-.92-.59-1.43-.59-.52 0-1.04.2-1.43.59L10.3 9.45l-7.72 7.72c-.78.78-.78 2.05 0 2.83L4 21.41c.39.39.9.59 1.41.59.51 0 1.02-.2 1.41-.59l7.78-7.78 2.81-2.81c.8-.78.8-2.07 0-2.86zM5.41 20L4 18.59l7.72-7.72 1.47 1.35L5.41 20z\"/>\n",
              "  </svg>\n",
              "      </button>\n",
              "      \n",
              "  <style>\n",
              "    .colab-df-container {\n",
              "      display:flex;\n",
              "      flex-wrap:wrap;\n",
              "      gap: 12px;\n",
              "    }\n",
              "\n",
              "    .colab-df-convert {\n",
              "      background-color: #E8F0FE;\n",
              "      border: none;\n",
              "      border-radius: 50%;\n",
              "      cursor: pointer;\n",
              "      display: none;\n",
              "      fill: #1967D2;\n",
              "      height: 32px;\n",
              "      padding: 0 0 0 0;\n",
              "      width: 32px;\n",
              "    }\n",
              "\n",
              "    .colab-df-convert:hover {\n",
              "      background-color: #E2EBFA;\n",
              "      box-shadow: 0px 1px 2px rgba(60, 64, 67, 0.3), 0px 1px 3px 1px rgba(60, 64, 67, 0.15);\n",
              "      fill: #174EA6;\n",
              "    }\n",
              "\n",
              "    [theme=dark] .colab-df-convert {\n",
              "      background-color: #3B4455;\n",
              "      fill: #D2E3FC;\n",
              "    }\n",
              "\n",
              "    [theme=dark] .colab-df-convert:hover {\n",
              "      background-color: #434B5C;\n",
              "      box-shadow: 0px 1px 3px 1px rgba(0, 0, 0, 0.15);\n",
              "      filter: drop-shadow(0px 1px 2px rgba(0, 0, 0, 0.3));\n",
              "      fill: #FFFFFF;\n",
              "    }\n",
              "  </style>\n",
              "\n",
              "      <script>\n",
              "        const buttonEl =\n",
              "          document.querySelector('#df-af67c7f6-7a5a-4e47-86fb-5893fb89782e button.colab-df-convert');\n",
              "        buttonEl.style.display =\n",
              "          google.colab.kernel.accessAllowed ? 'block' : 'none';\n",
              "\n",
              "        async function convertToInteractive(key) {\n",
              "          const element = document.querySelector('#df-af67c7f6-7a5a-4e47-86fb-5893fb89782e');\n",
              "          const dataTable =\n",
              "            await google.colab.kernel.invokeFunction('convertToInteractive',\n",
              "                                                     [key], {});\n",
              "          if (!dataTable) return;\n",
              "\n",
              "          const docLinkHtml = 'Like what you see? Visit the ' +\n",
              "            '<a target=\"_blank\" href=https://colab.research.google.com/notebooks/data_table.ipynb>data table notebook</a>'\n",
              "            + ' to learn more about interactive tables.';\n",
              "          element.innerHTML = '';\n",
              "          dataTable['output_type'] = 'display_data';\n",
              "          await google.colab.output.renderOutput(dataTable, element);\n",
              "          const docLink = document.createElement('div');\n",
              "          docLink.innerHTML = docLinkHtml;\n",
              "          element.appendChild(docLink);\n",
              "        }\n",
              "      </script>\n",
              "    </div>\n",
              "  </div>\n",
              "  "
            ]
          },
          "metadata": {},
          "execution_count": 20
        }
      ]
    },
    {
      "cell_type": "code",
      "source": [
        "print(\"Rating Distribution\")\n",
        "df.groupby(['rating'])['rating'].count()"
      ],
      "metadata": {
        "colab": {
          "base_uri": "https://localhost:8080/"
        },
        "id": "h_yg-VJe8uWy",
        "outputId": "f1d5d400-8d0e-4241-fad6-8c5a0de5e02c"
      },
      "execution_count": 22,
      "outputs": [
        {
          "output_type": "stream",
          "name": "stdout",
          "text": [
            "Rating Distribution\n"
          ]
        },
        {
          "output_type": "execute_result",
          "data": {
            "text/plain": [
              "rating\n",
              "3    27145\n",
              "4    34174\n",
              "5    21201\n",
              "Name: rating, dtype: int64"
            ]
          },
          "metadata": {},
          "execution_count": 22
        }
      ]
    },
    {
      "cell_type": "code",
      "source": [
        "# Perform a 80/20 train-test split on the interactions in the dataset\n",
        "train, test = train_test_split(df.values, test_size=0.2)\n",
        "train_df = pd.DataFrame(train, columns=df.columns)\n",
        "test_df = pd.DataFrame(test, columns=df.columns)\n",
        "val, test = train_test_split(test_df.values, test_size=0.5)\n",
        "val_df = pd.DataFrame(val, columns=test_df.columns)\n",
        "test_df = pd.DataFrame(test, columns=test_df.columns)\n",
        "\n",
        "print(\"Train Size:\\t\", len(train_df))\n",
        "print(\"Val Size:\\t\", len(val_df))\n",
        "print(\"Test Size:\\t\", len(test_df))"
      ],
      "metadata": {
        "colab": {
          "base_uri": "https://localhost:8080/"
        },
        "id": "U3QVvS059Arf",
        "outputId": "f42fd5b4-ce7d-493e-a6ae-8510b86bb581"
      },
      "execution_count": 23,
      "outputs": [
        {
          "output_type": "stream",
          "name": "stdout",
          "text": [
            "Train Size:\t 66016\n",
            "Val Size:\t 8252\n",
            "Test Size:\t 8252\n"
          ]
        }
      ]
    },
    {
      "cell_type": "markdown",
      "source": [
        "Since we performed the train/test randomly on the interactions, not all users and items may be present in the training set. We will relabel all of users and items to ensure the highest label is the number of users and items, respectively."
      ],
      "metadata": {
        "id": "g0bHVYGjrTcL"
      }
    },
    {
      "cell_type": "code",
      "source": [
        "from sklearn import preprocessing as pp\n",
        "le_user = pp.LabelEncoder()\n",
        "le_item = pp.LabelEncoder()"
      ],
      "metadata": {
        "id": "QXi90opJmriQ"
      },
      "execution_count": 24,
      "outputs": []
    },
    {
      "cell_type": "code",
      "source": [
        "train_df['user_id_idx'] = le_user.fit_transform(train_df['user_id'].values)\n",
        "train_df['item_id_idx'] = le_item.fit_transform(train_df['item_id'].values)\n",
        "\n",
        "train_user_ids = train_df['user_id'].unique()\n",
        "train_item_ids = train_df['item_id'].unique()"
      ],
      "metadata": {
        "id": "b-bh2Atl_BPE"
      },
      "execution_count": 25,
      "outputs": []
    },
    {
      "cell_type": "code",
      "source": [
        "n_users = len(train_user_ids)\n",
        "n_items = len(train_item_ids)\n",
        "print(\"Number of Unique Users : \", n_users)\n",
        "print(\"Number of unique Items : \", n_items)"
      ],
      "metadata": {
        "colab": {
          "base_uri": "https://localhost:8080/"
        },
        "id": "syc5ANw9ArKA",
        "outputId": "9046e1f0-f96b-4898-9cad-203223cce887"
      },
      "execution_count": 26,
      "outputs": [
        {
          "output_type": "stream",
          "name": "stdout",
          "text": [
            "Number of Unique Users :  943\n",
            "Number of unique Items :  1547\n"
          ]
        }
      ]
    },
    {
      "cell_type": "code",
      "source": [
        "# Consider only users and items seen during training to evaluate on val and tests sets\n",
        "val_df = val_df[\n",
        "    (val_df['user_id'].isin(train_user_ids)) & (val_df['item_id'].isin(train_item_ids))\n",
        "]\n",
        "test_df = test_df[\n",
        "    (test_df['user_id'].isin(train_user_ids)) & (test_df['item_id'].isin(train_item_ids))\n",
        "]\n",
        "print(len(test_df))"
      ],
      "metadata": {
        "id": "KtRmOkoDmem_",
        "colab": {
          "base_uri": "https://localhost:8080/"
        },
        "outputId": "98c4f8e3-29cd-4b02-dfca-357ba0c153e7"
      },
      "execution_count": 27,
      "outputs": [
        {
          "output_type": "stream",
          "name": "stdout",
          "text": [
            "8243\n"
          ]
        }
      ]
    },
    {
      "cell_type": "code",
      "source": [
        "val_df['user_id_idx'] = le_user.transform(val_df['user_id'].values)\n",
        "val_df['item_id_idx'] = le_item.transform(val_df['item_id'].values)"
      ],
      "metadata": {
        "id": "z7TuGUTiAZYT"
      },
      "execution_count": 28,
      "outputs": []
    },
    {
      "cell_type": "code",
      "source": [
        "test_df['user_id_idx'] = le_user.transform(test_df['user_id'].values)\n",
        "test_df['item_id_idx'] = le_item.transform(test_df['item_id'].values)"
      ],
      "metadata": {
        "id": "9fKAfWyCm5eY"
      },
      "execution_count": 29,
      "outputs": []
    },
    {
      "cell_type": "code",
      "source": [
        "# TRAIN\n",
        "users_train = torch.LongTensor(train_df.user_id_idx)\n",
        "items_train = torch.LongTensor(train_df.item_id_idx)\n",
        "\n",
        "train_edge_index = torch.stack((users_train,items_train))\n",
        "train_sparse_edge_index = SparseTensor(row=train_edge_index[0], col=train_edge_index[1], sparse_sizes=(n_users + n_items, n_users + n_items))\n",
        "\n",
        "# VAL\n",
        "users_val = torch.LongTensor(val_df.user_id_idx)\n",
        "items_val = torch.LongTensor(val_df.item_id_idx)\n",
        "\n",
        "val_edge_index = torch.stack((users_val,items_val))\n",
        "val_sparse_edge_index = SparseTensor(row=val_edge_index[0], col=val_edge_index[1], sparse_sizes=(n_users + n_items, n_users + n_items))\n",
        "\n",
        "# TEST\n",
        "users_test = torch.LongTensor(test_df.user_id_idx)\n",
        "items_test = torch.LongTensor(test_df.item_id_idx)\n",
        "\n",
        "test_edge_index = torch.stack((users_test,items_test))\n",
        "test_sparse_edge_index = SparseTensor(row=test_edge_index[0], col=test_edge_index[1], sparse_sizes=(n_users + n_items, n_users + n_items))"
      ],
      "metadata": {
        "id": "O3BkGyV9pkce"
      },
      "execution_count": 30,
      "outputs": []
    },
    {
      "cell_type": "markdown",
      "metadata": {
        "id": "JOB5kDmtUrUY"
      },
      "source": [
        "# Implementing LightGCN\n",
        "\n",
        "## Light Graph Convolution\n",
        "Between each layer, LightGCN uses the following propagation rule for user and item embeddings.\n",
        "\n",
        "\\begin{equation}\n",
        "e_u^{(k+1)} = \\sum_{i \\in N_u} \\frac{1}{\\sqrt{|N_u|}\\sqrt{|N_i|}} e_i^{(k)} \\quad e_i^{(k+1)} = \\sum_{u \\in N_i} \\frac{1}{\\sqrt{|N_i|}\\sqrt{|N_u|}} e_u^{(k)}\n",
        "\\end{equation}\n",
        "\n",
        "$N_u$: the set of all neighbors of user $u$ (items liked by $u$)\n",
        "\n",
        "$N_i$: the set of all neighbors of item $i$ (users who liked $i$)\n",
        "\n",
        "$e_u^{(k)}$ : k-th layer user embedding\n",
        "\n",
        "$e_i^{(k)}$ : k-th layer item embedding\n",
        "\n",
        "\n",
        "\n",
        "## Layer Combination and Model Prediction\n",
        "The only trainable parameters of LightGCN are the 0-th layer embeddings $e_u^{(0)}$ and $e_i^{(0)}$ for each user and item. We combine the embeddings obtained at each layer of propagation to form the final embeddings for all user and item, $e_u$ and $e_i$ via the follwing equation.\n",
        "\n",
        "\n",
        "\\begin{equation}\n",
        "e_u = \\sum_{k = 0}^K \\alpha_k e_u^{(k)} \\quad e_i = \\sum_{k = 0}^K \\alpha_k e_i^{(k)}\n",
        "\\end{equation}\n",
        "\n",
        "$\\alpha_k$ : hyperparameter which weights the contribution of the k-th layer embedding to the final embedding (usually set to $\\frac{1}{K}$ which translates to the mean)\n",
        "\n",
        "The model prediction is obtained by taking the inner product of the final user and item embeddings.\n",
        "\n",
        "\\begin{equation}\n",
        "\\hat{y}_{ui} = e_u^Te_i\n",
        "\\end{equation}\n",
        "\n"
      ]
    },
    {
      "cell_type": "code",
      "source": [
        "from torch_geometric.nn import LGConv\n",
        "from torch.nn import Sequential, Linear, Dropout, Embedding\n",
        "class LGCN(torch.nn.Module):\n",
        "    def __init__(self, num_users, num_items, hid_dim, n_layers, p_drop, skip_conn=False, post_proc_MLP=False):\n",
        "        super(LGCN, self).__init__()\n",
        "\n",
        "        if n_layers < 1:\n",
        "            raise AssertionError('Number or convolution layer must be at least 1')\n",
        "\n",
        "        self.num_users, self.num_items = num_users, num_items\n",
        "        self.hid_dim = hid_dim\n",
        "        self.n_layers = n_layers\n",
        "        self.skip_conn = skip_conn\n",
        "        self.p_drop = p_drop\n",
        "        self.post_proc_MLP = post_proc_MLP\n",
        "\n",
        "        self.embedding = nn.Embedding(self.num_users + self.num_items, self.hid_dim)\n",
        "        nn.init.normal_(self.embedding.weight, std=0.1) # Authors of LightGCN report higher results with normal initialization\n",
        "\n",
        "        self.convs = nn.ModuleList(LGConv() for _ in range(self.n_layers))\n",
        "\n",
        "        if post_proc_MLP:\n",
        "            self.post_MLP = Sequential(\n",
        "                Linear(hid_dim, hid_dim), Dropout(self.p_drop),\n",
        "                Linear(hid_dim, hid_dim)\n",
        "            )\n",
        "\n",
        "    def reset_parameters(self):\n",
        "        self.embedding = nn.Embedding(self.num_users + self.num_items, self.hid_dim)\n",
        "        nn.init.normal_(self.embedding.weight, std=0.1)\n",
        "        for conv in self.convs:\n",
        "            conv.reset_parameters()\n",
        "        if self.post_proc_MLP:\n",
        "            self.post_MLP.reset_parameters()\n",
        "        \n",
        "    def forward(self, edge_index):\n",
        "        emb_0 = self.embedding.weight\n",
        "        embs = [emb_0]\n",
        "\n",
        "        edge_index = torch.vstack((\n",
        "            edge_index[0],\n",
        "            edge_index[1] + n_users #add n_users since each node must have a unique id\n",
        "        ))\n",
        "\n",
        "        x = emb_0\n",
        "        x_prev = None\n",
        "        for conv in self.convs:\n",
        "            x = conv(x, edge_index)\n",
        "\n",
        "            if self.skip_conn and x_prev is not None:\n",
        "                x = x + x_prev\n",
        "            \n",
        "            x = F.relu(x)\n",
        "            x = F.dropout(x, p=self.p_drop, training=self.training)\n",
        "            x_prev = x\n",
        "            embs.append(x)\n",
        "\n",
        "        out = torch.mean(torch.stack(embs, dim=0), dim=0)\n",
        "\n",
        "        if self.post_proc_MLP:\n",
        "            out = self.post_MLP(out)\n",
        "\n",
        "        # out = torch.sigmoid(out)\n",
        "    \n",
        "        users_emb_0, items_emb_0 = torch.split(emb_0, (self.num_users, self.num_items))\n",
        "        users_emb_k, items_emb_k = torch.split(out,   (self.num_users, self.num_items))\n",
        "        # returns e_u^K, e_u^0, e_i^K, e_i^0\n",
        "        return users_emb_k, users_emb_0, items_emb_k, items_emb_0"
      ],
      "metadata": {
        "id": "3bz0ElvbY0Sf"
      },
      "execution_count": null,
      "outputs": []
    },
    {
      "cell_type": "markdown",
      "metadata": {
        "id": "My8eqloiBccE"
      },
      "source": [
        "# Loss Function\n",
        "\n",
        "\n",
        "\n",
        "We utilize a Bayesian Personalized Ranking (BPR) loss, a pairwise objective which encourages the predictions of positive samples to be higher than negative samples for each user.\n",
        "\n",
        "\\begin{equation}\n",
        "L_{BPR} = -\\sum_{u = 1}^M \\sum_{i \\in N_u} \\sum_{j \\notin N_u} \\ln{\\sigma(\\hat{y}_{ui} - \\hat{y}_{uj})} + \\lambda ||E^{(0)}||^2 \n",
        "\\end{equation}\n",
        "\n",
        "$\\hat{y}_{ui}$: predicted score of a positive sample\n",
        "\n",
        "$\\hat{y}_{uj}$: predicted score of a negative sample\n",
        "\n",
        "$\\lambda$: hyperparameter which controls the L2 regularization strength"
      ]
    },
    {
      "cell_type": "code",
      "metadata": {
        "id": "QmPs1xS-BYfe"
      },
      "source": [
        "def bpr_loss_fn(users_emb_final, users_emb_0, pos_items_emb_final, pos_items_emb_0, neg_items_emb_final, neg_items_emb_0):\n",
        "    DECAY = 1e-4\n",
        "\n",
        "    # compute loss from initial embeddings, used for regulization\n",
        "    reg_loss = (1/2) * (\n",
        "        users_emb_0.norm(2).pow(2) +\n",
        "        pos_items_emb_0.norm(2).pow(2) +\n",
        "        neg_items_emb_0.norm(2).pow(2)\n",
        "    ) / float(len(users_emb_0))\n",
        "\n",
        "    # compute BPR loss from user, positive item, and negative item embeddings\n",
        "    pos_scores = torch.mul(users_emb_final, pos_items_emb_final).sum(dim=1) # predicted scores of positive samples\n",
        "    neg_scores = torch.mul(users_emb_final, neg_items_emb_final).sum(dim=1) # predicted scores of negative samples\n",
        "\n",
        "    bpr_loss = F.sigmoid(neg_scores - pos_scores).mean() + DECAY * reg_loss\n",
        "    return bpr_loss"
      ],
      "execution_count": null,
      "outputs": []
    },
    {
      "cell_type": "markdown",
      "metadata": {
        "id": "CS7HVr3qLQGx"
      },
      "source": [
        "# Evaluation Metrics\n",
        "\n",
        "We evalaluate our model using the following metrics\n",
        "\n",
        "\\begin{equation}\n",
        "\\text{Recall} = \\frac{TP}{TP + FP}\n",
        "\\end{equation}\n",
        "\n",
        "\\begin{equation}\n",
        "\\text{Precision} = \\frac{TP}{TP + FN}\n",
        "\\end{equation}\n",
        "\n",
        "**Dicounted Cumulative Gain (DCG)** at rank position p is defined as:\n",
        "\n",
        "\\begin{equation}\n",
        "\\text{DCG}_\\text{p} = \\sum_{i = 1}^p \\frac{2^{rel_i} - 1}{\\log_2{(i + 1)}}\n",
        "\\end{equation}\n",
        "\n",
        "p: a particular rank position\n",
        "\n",
        "$rel_i \\in \\{0, 1\\}$ : graded relevance of the result at position $i$\n",
        "\n",
        "**Idealised Dicounted Cumulative Gain (IDCG)**, namely the maximum possible DCG, at rank position $p$ is defined as:\n",
        "\n",
        "\\begin{equation}\n",
        "\\text{IDCG}_\\text{p} = \\sum_{i = 1}^{|REL_p|} \\frac{2^{rel_i} - 1}{\\log_2{(i + 1)}}\n",
        "\\end{equation}\n",
        "\n",
        "$|REL_p|$ : list of items ordered by their relevance up to position p\n",
        "\n",
        "**Normalized Dicounted Cumulative Gain (NDCG)** at rank position $p$ is defined as:\n",
        "\n",
        "\\begin{equation}\n",
        "\\text{nDCG}_\\text{p} = \\frac{\\text{DCG}_p}{\\text{nDCG}_p}\n",
        "\\end{equation}\n",
        "\n",
        "Specifically, we use the metrics recall@K, precision@K, and NDCG@K. @K indicates that these metrics are computed on the top K recommendations."
      ]
    },
    {
      "cell_type": "code",
      "metadata": {
        "id": "8We4BTtfS4NV"
      },
      "source": [
        "# computes recall@K and precision@K\n",
        "def RecallPrecision_ATk(groundTruth, r, k):\n",
        "    num_correct_pred = torch.sum(r, dim=-1) # number of correctly predicted items per user\n",
        "    user_num_liked = torch.Tensor([len(groundTruth[i]) for i in range(len(groundTruth))]) # number of items liked by each user in the test set\n",
        "    recall = torch.mean(num_correct_pred / user_num_liked)\n",
        "    precision = torch.mean(num_correct_pred) / k\n",
        "    return recall.item(), precision.item()"
      ],
      "execution_count": null,
      "outputs": []
    },
    {
      "cell_type": "code",
      "metadata": {
        "id": "9v4A3Ek4TE02"
      },
      "source": [
        "# computes NDCG@K\n",
        "def NDCGatK_r(groundTruth, r, k):\n",
        "    \"\"\"Computes Normalized Discounted Cumulative Gain (NDCG) @ k\n",
        "\n",
        "    Args:\n",
        "        groundTruth (list): list of lists containing highly rated items of each user\n",
        "        r (list): list of lists indicating whether each top k item recommended to each user\n",
        "            is a top k ground truth item or not\n",
        "        k (int): determines the top k items to compute ndcg on\n",
        "\n",
        "    Returns:\n",
        "        float: ndcg @ k\n",
        "    \"\"\"\n",
        "    assert len(r) == len(groundTruth)\n",
        "\n",
        "    test_matrix = torch.zeros((len(r), k))\n",
        "\n",
        "    for i, items in enumerate(groundTruth):\n",
        "        length = min(len(items), k)\n",
        "        test_matrix[i, :length] = 1\n",
        "    max_r = test_matrix\n",
        "    idcg = torch.sum(max_r * 1. / torch.log2(torch.arange(2, k + 2)), axis=1)\n",
        "    dcg = r * (1. / torch.log2(torch.arange(2, k + 2)))\n",
        "    dcg = torch.sum(dcg, axis=1)\n",
        "    idcg[idcg == 0.] = 1.\n",
        "    ndcg = dcg / idcg\n",
        "    ndcg[torch.isnan(ndcg)] = 0.\n",
        "    return torch.mean(ndcg).item()"
      ],
      "execution_count": null,
      "outputs": []
    },
    {
      "cell_type": "code",
      "metadata": {
        "id": "x6_741LlTMwI"
      },
      "source": [
        "# Generates dictionary of positive items for each user\n",
        "def get_user_positive_items(edge_index):\n",
        "    df = pd.DataFrame(edge_index.cpu().numpy().T, columns=[\"user_id_idx\", \"item_id_idx\"]).astype(\"long\")\n",
        "    user_pos_items_df = df.groupby('user_id_idx')['item_id_idx'].apply(list).reset_index()\n",
        "    return user_pos_items_df.set_index('user_id_idx')['item_id_idx'].T.to_dict()"
      ],
      "execution_count": null,
      "outputs": []
    },
    {
      "cell_type": "code",
      "source": [
        "# Computes the evaluation metrics: recall, precision, and ndcg @ K\n",
        "def get_metrics(user_embedding, item_embedding, edge_index, exclude_edge_indices, k):\n",
        "    # get ratings between every user and item \n",
        "    rating = torch.matmul(user_embedding, item_embedding.T)\n",
        "\n",
        "    for exclude_edge_index in exclude_edge_indices:\n",
        "        indices = exclude_edge_index\n",
        "        values = torch.ones(train_edge_index.size(1), dtype=torch.float64).to(indices.device)\n",
        "        interactions = torch.sparse.FloatTensor(indices, values, (n_users, n_items)).to_dense()\n",
        "        \n",
        "        # mask out training user-item interactions from metric computation\n",
        "        rating = torch.mul(rating, (1 - interactions))\n",
        "\n",
        "    # get the top k recommended items for each user\n",
        "    _, top_K_items = torch.topk(rating, k)\n",
        "\n",
        "    # get all unique users in evaluated split\n",
        "    users = edge_index[0].unique()\n",
        "\n",
        "    test_user_pos_items = get_user_positive_items(edge_index)\n",
        "\n",
        "    # convert test user pos items dictionary into a list\n",
        "    test_user_pos_items_list = [test_user_pos_items[user.item()] for user in users]\n",
        "\n",
        "    # determine the correctness of topk predictions\n",
        "    r = []\n",
        "    for user in users:\n",
        "        ground_truth_items = test_user_pos_items[user.item()]\n",
        "        label = list(\n",
        "            # apply to each top k item the function: 1 if it is a ground truth item else 0\n",
        "            map(lambda x: x in ground_truth_items, top_K_items[user])\n",
        "        )\n",
        "        r.append(label)\n",
        "    r = torch.Tensor(np.array(r).astype('float'))\n",
        "\n",
        "    recall, precision = RecallPrecision_ATk(test_user_pos_items_list, r, K)\n",
        "    ndcg = NDCGatK_r(test_user_pos_items_list, r, k)\n",
        "\n",
        "    return recall, precision, ndcg"
      ],
      "metadata": {
        "id": "_LMM3AZnkT9V"
      },
      "execution_count": null,
      "outputs": []
    },
    {
      "cell_type": "code",
      "metadata": {
        "id": "yr_qESXASsVw"
      },
      "source": [
        "# wrapper function to evaluate model\n",
        "@torch.no_grad()\n",
        "def evaluation(model, criterion, edge_index, sparse_edge_index, exclude_edge_indices, k):\n",
        "    model.eval()\n",
        "\n",
        "    # get embeddings\n",
        "    users_emb_final, users_emb_0, items_emb_final, items_emb_0 = model(sparse_edge_index)\n",
        "\n",
        "    # calculate metrics\n",
        "    recall, precision, ndcg = get_metrics(users_emb_final, items_emb_final, edge_index, exclude_edge_indices, k)\n",
        "\n",
        "    # negative sampling\n",
        "    user_indices, pos_item_indices, neg_item_indices = structured_negative_sampling(edge_index, contains_neg_self_loops=False)\n",
        "\n",
        "    users_emb_final, users_emb_0 = users_emb_final[user_indices], users_emb_0[user_indices]\n",
        "    pos_items_emb_final, pos_items_emb_0 = items_emb_final[pos_item_indices], items_emb_0[pos_item_indices]\n",
        "    neg_items_emb_final, neg_items_emb_0 = items_emb_final[neg_item_indices], items_emb_0[neg_item_indices]\n",
        "\n",
        "    # calculate loss\n",
        "    loss = criterion(users_emb_final, users_emb_0, pos_items_emb_final, pos_items_emb_0, neg_items_emb_final, neg_items_emb_0)\n",
        "    \n",
        "    return loss, recall, precision, ndcg"
      ],
      "execution_count": null,
      "outputs": []
    },
    {
      "cell_type": "markdown",
      "metadata": {
        "id": "NYw1cUgPTjws"
      },
      "source": [
        "# Train and evaluation"
      ]
    },
    {
      "cell_type": "code",
      "source": [
        "def sample_mini_batch(batch_size, edge_index):\n",
        "\n",
        "    def sample_neg(x):\n",
        "        while True:\n",
        "            neg_id = random.randint(0, n_items - 1)\n",
        "            if neg_id not in x:\n",
        "                return neg_id\n",
        "\n",
        "    data = pd.DataFrame(edge_index.cpu().numpy().T, columns=[\"user_id_idx\", \"item_id_idx\"]).astype(\"long\")\n",
        "    interected_items_df = data.groupby('user_id_idx')['item_id_idx'].apply(list).reset_index()\n",
        "    indices = [x for x in range(n_users)]\n",
        "\n",
        "    if n_users < batch_size:\n",
        "        users = [random.choice(indices) for _ in range(batch_size)]\n",
        "    else:\n",
        "        users = random.sample(indices, batch_size)\n",
        "    users.sort()\n",
        "    users_df = pd.DataFrame(users,columns = ['users'])\n",
        "\n",
        "    interected_items_df = pd.merge(interected_items_df, users_df, how = 'right', left_on = 'user_id_idx', right_on = 'users')\n",
        "    pos_items = interected_items_df['item_id_idx'].apply(lambda x : random.choice(x)).values\n",
        "    neg_items = interected_items_df['item_id_idx'].apply(lambda x: sample_neg(x)).values\n",
        "\n",
        "    return (\n",
        "        torch.LongTensor(list(users)).to(device), \n",
        "        torch.LongTensor(list(pos_items)).to(device),\n",
        "        torch.LongTensor(list(neg_items)).to(device)\n",
        "    )\n",
        "\n",
        "sample_mini_batch(1024, train_edge_index)"
      ],
      "metadata": {
        "colab": {
          "base_uri": "https://localhost:8080/"
        },
        "id": "pamh0n-Un-xF",
        "outputId": "a3c6327a-3d3e-47ac-e83b-2be23c69e43e"
      },
      "execution_count": null,
      "outputs": [
        {
          "output_type": "execute_result",
          "data": {
            "text/plain": [
              "(tensor([  0,   0,   1,  ..., 941, 941, 942], device='cuda:0'),\n",
              " tensor([ 37, 155, 255,  ..., 598, 308, 402], device='cuda:0'),\n",
              " tensor([1439, 1513, 1403,  ...,  563,  124, 1140], device='cuda:0'))"
            ]
          },
          "metadata": {},
          "execution_count": 32
        }
      ]
    },
    {
      "cell_type": "code",
      "source": [
        "BATCH_SIZE = 1024\n",
        "EPOCHS = 100\n",
        "\n",
        "LR = 5e-3\n",
        "WD = 1e-5\n",
        "EVAL_STEPS = 5\n",
        "LR_DECAY_STEPS = 10\n",
        "K = 20\n",
        "\n",
        "train_edge_index = train_edge_index.to(device)\n",
        "\n",
        "val_edge_index = val_edge_index.to(device)\n",
        "\n",
        "test_edge_index = test_edge_index.to(device)\n",
        "\n",
        "best_test_precision = 0\n",
        "best_model_history = None\n",
        "best_model_weight = None\n",
        "\n",
        "from sklearn.model_selection import ParameterGrid\n",
        "configs = {\n",
        "    'HIDDEN_DIM' : [64],\n",
        "    'DROPOUT' : [0.2],\n",
        "    'N_LAYERS' : [3],\n",
        "    'SKIP_CONN' : [True, False],\n",
        "    'POST_PROC_MLP' : [False]\n",
        "}\n",
        "param_grid = ParameterGrid(configs)\n",
        "print(f'Number of combinations: {len(param_grid)}')\n",
        "print('------------------')\n",
        "for dict_ in param_grid:\n",
        "    print(f'Trying configuration {dict_}')\n",
        "\n",
        "    #MODEL\n",
        "    model = LGCN(n_users, n_items, dict_['HIDDEN_DIM'], dict_['N_LAYERS'], dict_['DROPOUT'], skip_conn=dict_['SKIP_CONN'], post_proc_MLP=dict_['POST_PROC_MLP']).to(device)\n",
        "\n",
        "    criterion = bpr_loss_fn\n",
        "\n",
        "    optimizer = torch.optim.Adam(model.parameters(), lr=LR)\n",
        "\n",
        "    #TRAIN & EVALUATE\n",
        "    history = {}\n",
        "    history['loss'] = []; history['val_loss'] = []; history['test_loss'] = []\n",
        "    history[f'val_recall@{K}'] = []; history[f'test_recall@{K}'] = []\n",
        "    history[f'val_precision@{K}'] = []; history[f'test_precision@{K}'] = []\n",
        "    \n",
        "    n_batch = train_edge_index.size(1)//BATCH_SIZE\n",
        "\n",
        "    pbar = tqdm(range(EPOCHS))\n",
        "    for epoch in pbar:\n",
        "\n",
        "        model.train()\n",
        "        losses = []\n",
        "        for _ in range(n_batch):\n",
        "            optimizer.zero_grad()\n",
        "\n",
        "            # batching\n",
        "            user_indices, pos_item_indices, neg_item_indices = sample_mini_batch(BATCH_SIZE, train_edge_index)\n",
        "\n",
        "            # forward propagation\n",
        "            users_emb_final, users_emb_0, items_emb_final, items_emb_0 = model(train_edge_index)\n",
        "\n",
        "            # select batch samples \n",
        "            users_emb_final, users_emb_0 = users_emb_final[user_indices], users_emb_0[user_indices]\n",
        "            pos_items_emb_final, pos_items_emb_0 = items_emb_final[pos_item_indices], items_emb_0[pos_item_indices]\n",
        "            neg_items_emb_final, neg_items_emb_0 = items_emb_final[neg_item_indices], items_emb_0[neg_item_indices]\n",
        "\n",
        "            # loss computation\n",
        "            loss = criterion(users_emb_final, users_emb_0, pos_items_emb_final, pos_items_emb_0, neg_items_emb_final, neg_items_emb_0)\n",
        "            loss.backward()\n",
        "            optimizer.step()\n",
        "\n",
        "            losses.append(loss.item())\n",
        "        \n",
        "        history['loss'].append(np.mean(losses))\n",
        "\n",
        "        if (epoch + 1) % EVAL_STEPS == 0 or epoch == 0:\n",
        "            val_loss, val_recall, val_precision, ndcg = evaluation(model, criterion, val_edge_index, train_edge_index, [train_edge_index], K)\n",
        "            history['val_loss'].append(val_loss.item())\n",
        "            history[f'val_recall@{K}'].append(val_recall)\n",
        "            history[f'val_precision@{K}'].append(val_precision)\n",
        "\n",
        "            test_loss, test_recall, test_precision, test_ndcg = evaluation(model, criterion, test_edge_index, train_edge_index, [train_edge_index], K)\n",
        "            history['test_loss'].append(test_loss.item())\n",
        "            history[f'test_recall@{K}'].append(test_recall)\n",
        "            history[f'test_precision@{K}'].append(test_precision)\n",
        "\n",
        "        description = f\"Epoch {(epoch + 1):02d} - loss: {loss:.4f} - val_recall@{K}: {val_recall:.4f} - val_precision@{K}: {val_precision:.4f} - test_recall@{K}: {test_recall:.4f} - test_precision@{K}: {test_precision:.4f}\\t\"\n",
        "        pbar.set_description(description, refresh=True)\n",
        "\n",
        "    print('------------------')\n",
        "    \n",
        "    if max(history[f'test_precision@{K}']) > best_test_precision:\n",
        "        best_parameters = dict_\n",
        "        best_model_history = history\n",
        "        best_model_weights = model.state_dict()\n",
        "        best_test_precision = max(history[f'test_precision@{K}'])\n",
        "    \n",
        "    del model\n",
        "    torch.cuda.empty_cache()"
      ],
      "metadata": {
        "colab": {
          "base_uri": "https://localhost:8080/"
        },
        "id": "GZDrpFBzkgE-",
        "outputId": "a1ce7416-b9f7-4a4a-946e-0084fc4cf7a9"
      },
      "execution_count": null,
      "outputs": [
        {
          "output_type": "stream",
          "name": "stdout",
          "text": [
            "Number of combinations: 2\n",
            "------------------\n",
            "Trying configuration {'DROPOUT': 0.2, 'HIDDEN_DIM': 64, 'N_LAYERS': 3, 'POST_PROC_MLP': False, 'SKIP_CONN': True}\n"
          ]
        },
        {
          "output_type": "stream",
          "name": "stderr",
          "text": [
            "Epoch 100 - loss: 0.0616 - val_recall@20: 0.3527 - val_precision@20: 0.1277 - test_recall@20: 0.3494 - test_precision@20: 0.1257\t: 100%|██████████| 100/100 [06:18<00:00,  3.79s/it]\n"
          ]
        },
        {
          "output_type": "stream",
          "name": "stdout",
          "text": [
            "------------------\n",
            "Trying configuration {'DROPOUT': 0.2, 'HIDDEN_DIM': 64, 'N_LAYERS': 3, 'POST_PROC_MLP': False, 'SKIP_CONN': False}\n"
          ]
        },
        {
          "output_type": "stream",
          "name": "stderr",
          "text": [
            "Epoch 100 - loss: 0.0732 - val_recall@20: 0.3508 - val_precision@20: 0.1270 - test_recall@20: 0.3498 - test_precision@20: 0.1245\t: 100%|██████████| 100/100 [06:07<00:00,  3.68s/it]"
          ]
        },
        {
          "output_type": "stream",
          "name": "stdout",
          "text": [
            "------------------\n"
          ]
        },
        {
          "output_type": "stream",
          "name": "stderr",
          "text": [
            "\n"
          ]
        }
      ]
    },
    {
      "cell_type": "code",
      "execution_count": null,
      "metadata": {
        "id": "0pkQsXLyeSHx",
        "colab": {
          "base_uri": "https://localhost:8080/"
        },
        "outputId": "738df3c8-bc28-4dc6-e8a2-d73e8bdcf2a0"
      },
      "outputs": [
        {
          "output_type": "stream",
          "name": "stdout",
          "text": [
            "Best parameters: {'DROPOUT': 0.2, 'HIDDEN_DIM': 64, 'N_LAYERS': 3, 'POST_PROC_MLP': False, 'SKIP_CONN': True}\n"
          ]
        }
      ],
      "source": [
        "print(f'Best parameters: {best_parameters}')"
      ]
    },
    {
      "cell_type": "code",
      "metadata": {
        "id": "nLcdvV5iXBSv",
        "colab": {
          "base_uri": "https://localhost:8080/",
          "height": 334
        },
        "outputId": "f9653a26-7f08-4dfc-8031-63c072468efe"
      },
      "source": [
        "plt.figure(figsize=(10,5))\n",
        "plt.plot(np.arange(1, EPOCHS+1), best_model_history['loss'], label=\"train\")\n",
        "plt.plot(np.arange(0, EPOCHS+1, EVAL_STEPS), best_model_history['val_loss'], label=\"validation\")\n",
        "plt.plot(np.arange(0, EPOCHS+1, EVAL_STEPS), best_model_history['test_loss'], label=\"test\")\n",
        "\n",
        "plt.xlabel('Epochs')\n",
        "plt.ylabel('Loss')\n",
        "plt.legend(loc='upper right')\n",
        "plt.show()"
      ],
      "execution_count": null,
      "outputs": [
        {
          "output_type": "display_data",
          "data": {
            "text/plain": [
              "<Figure size 720x360 with 1 Axes>"
            ],
            "image/png": "[encoded data removed]"
          },
          "metadata": {
            "needs_background": "light"
          }
        }
      ]
    },
    {
      "cell_type": "code",
      "source": [
        "plt.figure(figsize=(10,5))\n",
        "plt.plot(np.arange(0, EPOCHS+1, EVAL_STEPS), best_model_history[f'val_recall@{K}'], label=\"validation\")\n",
        "plt.plot(np.arange(0, EPOCHS+1, EVAL_STEPS), best_model_history[f'test_recall@{K}'], label=\"test\")\n",
        "\n",
        "plt.xlabel('Epochs')\n",
        "plt.ylabel(f'Recall@{K}')\n",
        "plt.legend(loc='upper left')\n",
        "plt.show()"
      ],
      "metadata": {
        "id": "2XmA40MMun6f",
        "colab": {
          "base_uri": "https://localhost:8080/",
          "height": 334
        },
        "outputId": "743b6bf2-016b-4d60-c1ca-a266f6b3bda1"
      },
      "execution_count": null,
      "outputs": [
        {
          "output_type": "display_data",
          "data": {
            "text/plain": [
              "<Figure size 720x360 with 1 Axes>"
            ],
            "image/png": "[encoded data removed]"
          },
          "metadata": {
            "needs_background": "light"
          }
        }
      ]
    },
    {
      "cell_type": "code",
      "source": [
        "plt.figure(figsize=(10,5))\n",
        "plt.plot(np.arange(0, EPOCHS+1, EVAL_STEPS), best_model_history[f'val_precision@{K}'], label=\"validation\")\n",
        "plt.plot(np.arange(0, EPOCHS+1, EVAL_STEPS), best_model_history[f'test_precision@{K}'], label=\"test\")\n",
        "\n",
        "plt.xlabel('Epochs')\n",
        "plt.ylabel(f'Precision@{K}')\n",
        "plt.legend(loc='upper left')\n",
        "plt.show()"
      ],
      "metadata": {
        "id": "DLqGyaUtuW9v",
        "colab": {
          "base_uri": "https://localhost:8080/",
          "height": 334
        },
        "outputId": "1e16c92f-3255-4107-a479-ef20ecfe629f"
      },
      "execution_count": null,
      "outputs": [
        {
          "output_type": "display_data",
          "data": {
            "text/plain": [
              "<Figure size 720x360 with 1 Axes>"
            ],
            "image/png": "[encoded data removed]"
          },
          "metadata": {
            "needs_background": "light"
          }
        }
      ]
    },
    {
      "cell_type": "markdown",
      "source": [
        "## Evaluation of ML model: LightFM"
      ],
      "metadata": {
        "id": "HOW8He6wlSyB"
      }
    },
    {
      "cell_type": "code",
      "source": [
        "%%capture\n",
        "!pip install lightfm"
      ],
      "metadata": {
        "id": "MEOUe6fVYJpb"
      },
      "execution_count": 87,
      "outputs": []
    },
    {
      "cell_type": "code",
      "source": [
        "from lightfm import LightFM\n",
        "from lightfm.datasets import fetch_movielens\n",
        "from lightfm.evaluation import precision_at_k, recall_at_k"
      ],
      "metadata": {
        "id": "AjXFjB2wYRdw"
      },
      "execution_count": 88,
      "outputs": []
    },
    {
      "cell_type": "code",
      "source": [
        "from scipy.sparse import coo_matrix\n",
        "# TRAIN\n",
        "row = train_edge_index[0].cpu().numpy()\n",
        "col = train_edge_index[1].cpu().numpy()\n",
        "data = np.ones(train_edge_index.numpy().shape[1])\n",
        "train_sparse_matrix = coo_matrix((data, (row, col)), shape=(n_users, n_items))\n",
        "# TEST\n",
        "row = test_edge_index[0].cpu().numpy()\n",
        "col = test_edge_index[1].cpu().numpy()\n",
        "data = np.ones(test_edge_index.numpy().shape[1])\n",
        "test_sparse_matrix = coo_matrix((data, (row, col)), shape=(n_users, n_items))"
      ],
      "metadata": {
        "id": "le9J-f8zc1sX"
      },
      "execution_count": 89,
      "outputs": []
    },
    {
      "cell_type": "code",
      "source": [
        "# Instantiate and train the model\n",
        "model = LightFM(\n",
        "    no_components=64,\n",
        "    learning_schedule='adagrad',\n",
        "    loss='bpr',\n",
        "    learning_rate=LR\n",
        ")\n",
        "model = model.fit(train_sparse_matrix, epochs=100, num_threads=4)"
      ],
      "metadata": {
        "id": "6mvuxONLac86"
      },
      "execution_count": 90,
      "outputs": []
    },
    {
      "cell_type": "code",
      "source": [
        "# Evaluate the trained model\n",
        "test_recall = recall_at_k(model, test_sparse_matrix, k=K).mean()\n",
        "test_precision = precision_at_k(model, test_sparse_matrix, k=K).mean()\n",
        "print(f'Recall@{K}:\\t{test_recall:.4f}')\n",
        "print(f'Precision@{K}:\\t{test_precision:.4f}')"
      ],
      "metadata": {
        "colab": {
          "base_uri": "https://localhost:8080/"
        },
        "id": "STkuIEC2YXsM",
        "outputId": "e4d6111f-59c2-4ca7-b30e-8f35c5729359"
      },
      "execution_count": 91,
      "outputs": [
        {
          "output_type": "stream",
          "name": "stdout",
          "text": [
            "Recall@20:\t0.1640\n",
            "Precision@20:\t0.0459\n"
          ]
        }
      ]
    }
  ]
}